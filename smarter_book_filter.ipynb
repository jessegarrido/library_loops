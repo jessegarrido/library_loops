{
 "cells": [
  {
   "cell_type": "markdown",
   "id": "0182b639",
   "metadata": {},
   "source": [
    "# Smarter Book Filter\n",
    "Let’s build on your previous challenge and make your book filter more flexible and user-friendly.\n",
    "\n",
    "In this version, the user can:\n",
    "\n",
    "- input a starting letter\n",
    "\n",
    "- only show books that are \"Available\"\n",
    "\n",
    "- see how many matching books were found in total"
   ]
  },
  {
   "cell_type": "code",
   "execution_count": 12,
   "id": "4c9d94ce",
   "metadata": {},
   "outputs": [],
   "source": [
    "# Define the dictionary with books and their availability\n",
    "library = {\n",
    "    \"The Hobbit\": \"Available\",\n",
    "    \"Slaughterhouse-Five\": \"Available\",\n",
    "    \"Moby Dick\": \"Available\",\n",
    "    \"The Catcher in the Rye\": \"Checked Out\",\n",
    "    \"Siddhartha\": \"Checked Out\",\n",
    "    \"Meditations\": \"Checked Out\",\n",
    "    \"Things Fall Apart\": \"Available\",\n",
    "    \"To Kill a Mockingbird\": \"Checked Out\",\n",
    "    \"Pride and Prejudice\": \"Available\",\n",
    "    \"Jane Eyre\": \"Checked Out\",\n",
    "    \"The Great Gatsby\": \"Available\",\n",
    "    \"War and Peace\": \"Checked Out\",\n",
    "    \"Crime and Punishment\": \"Available\",\n",
    "    \"Brave New World\": \"Available\",\n",
    "    \"A Tale of Two Cities\": \"Checked Out\",\n",
    "    \"Animal Farm\": \"Available\",\n",
    "    \"Dracula\": \"Checked Out\",\n",
    "    \"Frankenstein\": \"Available\",\n",
    "    \"The Road\": \"Available\",\n",
    "    \"The Alchemist\": \"Checked Out\"\n",
    "}"
   ]
  },
  {
   "cell_type": "markdown",
   "id": "32b33fe9",
   "metadata": {},
   "source": [
    "Seen below is our original filter"
   ]
  },
  {
   "cell_type": "code",
   "execution_count": 13,
   "id": "457e82ad",
   "metadata": {},
   "outputs": [
    {
     "name": "stdout",
     "output_type": "stream",
     "text": [
      "Books that start with 'T':\n",
      "The Hobbit\n",
      "The Catcher in the Rye\n",
      "Things Fall Apart\n",
      "To Kill a Mockingbird\n",
      "The Great Gatsby\n",
      "The Road\n",
      "The Alchemist\n"
     ]
    }
   ],
   "source": [
    "# Finding and printing books that start with 'T'\n",
    "print(\"Books that start with 'T':\")\n",
    "for book in library.keys():  \n",
    "    if book.startswith(\"T\"):  \n",
    "        print(book)"
   ]
  },
  {
   "cell_type": "markdown",
   "id": "2c82fdb5",
   "metadata": {},
   "source": [
    "### Follow along each step to complete the challenge! Put your code below the comments"
   ]
  },
  {
   "cell_type": "markdown",
   "id": "94ee443a",
   "metadata": {},
   "source": [
    "## Step 1 : Get the User's Input"
   ]
  },
  {
   "cell_type": "code",
   "execution_count": 14,
   "id": "e8e66e9c",
   "metadata": {},
   "outputs": [
    {
     "name": "stdout",
     "output_type": "stream",
     "text": [
      "\n",
      "Search for books starting with a specific letter.\n"
     ]
    }
   ],
   "source": [
    "# Ask the user for a letter to search for.\n",
    "# Use .upper() and .strip() so it works even if they enter lowercase or spaces.\n",
    "# Example: If the user types \" t \", it should become \"T\".\n",
    "print(\"\\nSearch for books starting with a specific letter.\")\n",
    "letter = input(\"Enter a letter: \").upper().strip()"
   ]
  },
  {
   "cell_type": "markdown",
   "id": "8282cc53",
   "metadata": {},
   "source": [
    "## Step 2: Initialize a counter"
   ]
  },
  {
   "cell_type": "code",
   "execution_count": 15,
   "id": "d43dc487",
   "metadata": {},
   "outputs": [],
   "source": [
    "# Create a variable to keep track of how many books match the search.\n",
    "match_count = 0"
   ]
  },
  {
   "cell_type": "markdown",
   "id": "e90a8008",
   "metadata": {},
   "source": [
    "## Step 3: Display a header message"
   ]
  },
  {
   "cell_type": "code",
   "execution_count": 16,
   "id": "2f25ac31",
   "metadata": {},
   "outputs": [
    {
     "name": "stdout",
     "output_type": "stream",
     "text": [
      "\n",
      "Books starting with S that are Available:\n"
     ]
    }
   ],
   "source": [
    "# Print a friendly message before listing the results. (Just run this cell, no need to make changes)\n",
    "print(f\"\\nBooks starting with {letter} that are Available:\")"
   ]
  },
  {
   "cell_type": "markdown",
   "id": "38ae8116",
   "metadata": {},
   "source": [
    "## Step 4: Search through the dictionary"
   ]
  },
  {
   "cell_type": "code",
   "execution_count": 17,
   "id": "d72e5d27",
   "metadata": {},
   "outputs": [
    {
     "name": "stdout",
     "output_type": "stream",
     "text": [
      "Slaughterhouse-Five\n"
     ]
    }
   ],
   "source": [
    "# Loop through the book dictionary to check each title.\n",
    "# Example: for title, status in library.items():\n",
    "# If the title starts with the chosen letter and the status is \"Available\",\n",
    "# print the title and increase match_count by 1.\n",
    "for title, status in library.items():\n",
    "    if title.upper().startswith(letter) and status == \"Available\":\n",
    "        print(title)\n",
    "        match_count += 1"
   ]
  },
  {
   "cell_type": "markdown",
   "id": "5f69b543",
   "metadata": {},
   "source": [
    "## Step 5: Show total matches"
   ]
  },
  {
   "cell_type": "code",
   "execution_count": 18,
   "id": "6a4b6b15",
   "metadata": {},
   "outputs": [
    {
     "name": "stdout",
     "output_type": "stream",
     "text": [
      "\n",
      "Total books found starting with S that are Available: 1\n"
     ]
    }
   ],
   "source": [
    "# After the loop, print how many books matched.\n",
    "print(f\"\\nTotal books found starting with {letter} that are Available: {match_count}\")"
   ]
  },
  {
   "cell_type": "markdown",
   "id": "45bf0af5",
   "metadata": {},
   "source": [
    "# Great job!\n",
    "\n",
    "You’ve built a flexible book filter using a dictionary, conditionals, string methods, and a for loop. Nice work applying what you've learned.\n",
    "\n",
    "This is not required, but if you’d like to go further and make this project more advanced, try one (or all) of these ideas:\n",
    "\n",
    "- Let the user input more than one starting letter (e.g., \"T,S,M\")\n",
    "- Allow the user to choose whether to filter by \"Available\", \"Checked Out\", or show all books\n",
    "- Let users add new books to the dictionary along with their availability status\n",
    "- Give users the ability to change the status of an existing book (for example, from \"Checked Out\" to \"Available\")\n",
    "\n",
    "Try adding one feature at a time to build your skills. \n"
   ]
  }
 ],
 "metadata": {
  "kernelspec": {
   "display_name": "Python 3",
   "language": "python",
   "name": "python3"
  },
  "language_info": {
   "codemirror_mode": {
    "name": "ipython",
    "version": 3
   },
   "file_extension": ".py",
   "mimetype": "text/x-python",
   "name": "python",
   "nbconvert_exporter": "python",
   "pygments_lexer": "ipython3",
   "version": "3.10.11"
  }
 },
 "nbformat": 4,
 "nbformat_minor": 5
}
